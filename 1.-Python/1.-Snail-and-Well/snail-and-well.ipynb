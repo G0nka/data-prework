well_height=125
daily_distance=30
nightly_distance=-20
snail_position=0
days=0
while snail_position<well_height:
    snail_position+=daily_distance+nightly_distance
    days+=1
    if days==1:
        print("The snake climbed for", days, "day and reached", snail_position ,"cms.")
    else:   
        print("The snake climbed for", days, "days and reached", snail_position ,"cms.")

print("The snake finished in", days , "days.")
